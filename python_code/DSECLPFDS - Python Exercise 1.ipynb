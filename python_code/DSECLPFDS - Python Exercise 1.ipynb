{
 "cells": [
  {
   "cell_type": "code",
   "id": "initial_id",
   "metadata": {
    "collapsed": true,
    "ExecuteTime": {
     "end_time": "2025-04-19T09:24:44.912742Z",
     "start_time": "2025-04-19T09:24:44.909188Z"
    }
   },
   "source": [
    "age = 30                     # Integer\n",
    "price = 99.99                # Float\n",
    "name = \"Amiya\"               # String\n",
    "is_student = True           # Boolean\n",
    "\n",
    "print(\"1. Variable Types and Output\")\n",
    "print(f\"Age: {age}, Type: {type(age)}\")\n",
    "print(f\"Price: {price}, Type: {type(price)}\")\n",
    "print(f\"Name: {name}, Type: {type(name)}\")\n",
    "print(f\"Is Student: {is_student}, Type: {type(is_student)}\")\n",
    "print(\"-\" * 50)"
   ],
   "outputs": [
    {
     "name": "stdout",
     "output_type": "stream",
     "text": [
      "1. Variable Types and Output\n",
      "Age: 30, Type: <class 'int'>\n",
      "Price: 99.99, Type: <class 'float'>\n",
      "Name: Amiya, Type: <class 'str'>\n",
      "Is Student: True, Type: <class 'bool'>\n",
      "--------------------------------------------------\n"
     ]
    }
   ],
   "execution_count": 2
  },
  {
   "metadata": {
    "ExecuteTime": {
     "end_time": "2025-04-19T09:26:12.060245Z",
     "start_time": "2025-04-19T09:25:56.617414Z"
    }
   },
   "cell_type": "code",
   "source": [
    "print(\"2. Basic Input and Arithmetic\")\n",
    "int_input = int(input(\"Enter an integer (e.g., 10): \"))\n",
    "float_input = float(input(\"Enter a float (e.g., 5.5): \"))\n",
    "\n",
    "sum_result = int_input + float_input\n",
    "diff_result = int_input - float_input\n",
    "product_result = int_input * float_input\n",
    "division_result = float_input / int_input if int_input != 0 else None\n"
   ],
   "id": "fa18356dc5c00782",
   "outputs": [
    {
     "name": "stdout",
     "output_type": "stream",
     "text": [
      "2. Basic Input and Arithmetic\n"
     ]
    }
   ],
   "execution_count": 3
  },
  {
   "metadata": {
    "ExecuteTime": {
     "end_time": "2025-04-19T09:26:35.751997Z",
     "start_time": "2025-04-19T09:26:35.748703Z"
    }
   },
   "cell_type": "code",
   "source": [
    "print(f\"Sum: {sum_result:.2f}\")\n",
    "print(f\"Difference: {diff_result:.2f}\")\n",
    "print(f\"Product: {product_result:.2f}\")\n",
    "if division_result is not None:\n",
    "    print(f\"Division (float / int): {division_result:.2f}\")\n",
    "else:\n",
    "    print(\"Division by zero is not allowed.\")\n",
    "print(\"-\" * 50)"
   ],
   "id": "210175eb50662c76",
   "outputs": [
    {
     "name": "stdout",
     "output_type": "stream",
     "text": [
      "Sum: 13225225.30\n",
      "Difference: 12600578.70\n",
      "Product: 4033000165216.60\n",
      "Division (float / int): 0.02\n",
      "--------------------------------------------------\n"
     ]
    }
   ],
   "execution_count": 4
  },
  {
   "metadata": {
    "ExecuteTime": {
     "end_time": "2025-04-19T09:27:24.417552Z",
     "start_time": "2025-04-19T09:27:05.500075Z"
    }
   },
   "cell_type": "code",
   "source": [
    "print(\"3. Formatted Output\")\n",
    "language = input(\"What is your favorite programming language? \")\n",
    "experience = input(\"What is your experience level? (Beginner/Intermediate/Advanced): \")\n",
    "print(f\"I am a {experience} in {language}.\")\n",
    "print(\"-\" * 50)"
   ],
   "id": "177910dbfc367ec6",
   "outputs": [
    {
     "name": "stdout",
     "output_type": "stream",
     "text": [
      "3. Formatted Output\n",
      "You are a B in python.\n",
      "--------------------------------------------------\n"
     ]
    }
   ],
   "execution_count": 5
  },
  {
   "metadata": {
    "ExecuteTime": {
     "end_time": "2025-04-19T09:27:52.695038Z",
     "start_time": "2025-04-19T09:27:44.406374Z"
    }
   },
   "cell_type": "code",
   "source": [
    "print(\"4. Simple Type Casting\")\n",
    "user_input = input(\"Enter a number as text (e.g., '105'): \")\n",
    "\n",
    "int_value = int(user_input)\n",
    "float_value = float(user_input)\n",
    "\n",
    "print(f\"Original Input: {user_input}, Type: {type(user_input)}\")\n",
    "print(f\"Integer Conversion: {int_value}, Type: {type(int_value)}\")\n",
    "print(f\"Float Conversion: {float_value}, Type: {type(float_value)}\")"
   ],
   "id": "50c61e10fbbc3856",
   "outputs": [
    {
     "name": "stdout",
     "output_type": "stream",
     "text": [
      "4. Simple Type Casting\n",
      "Original Input: 111, Type: <class 'str'>\n",
      "Integer Conversion: 111, Type: <class 'int'>\n",
      "Float Conversion: 111.0, Type: <class 'float'>\n"
     ]
    }
   ],
   "execution_count": 6
  },
  {
   "metadata": {
    "ExecuteTime": {
     "end_time": "2025-04-19T09:29:43.658578Z",
     "start_time": "2025-04-19T09:29:39.404729Z"
    }
   },
   "cell_type": "code",
   "source": [
    "def greet(name):\n",
    "    print(f\"Hello, {name}! Welcome to Python programming.\")\n",
    "\n",
    "print(\"5. Function Introduction\")\n",
    "user_name = input(\"Enter your name: \")\n",
    "greet(user_name)\n",
    "print(\"-\" * 50)"
   ],
   "id": "cbc4ee09b2cc41a",
   "outputs": [
    {
     "name": "stdout",
     "output_type": "stream",
     "text": [
      "5. Function Introduction\n",
      "Hello, abcd! Welcome to Python programming.\n",
      "--------------------------------------------------\n"
     ]
    }
   ],
   "execution_count": 7
  },
  {
   "metadata": {
    "ExecuteTime": {
     "end_time": "2025-04-19T09:30:34.988683Z",
     "start_time": "2025-04-19T09:30:28.686112Z"
    }
   },
   "cell_type": "code",
   "source": [
    "print(\"6. Handling Multiple Inputs on One Line\")\n",
    "nums_input = input(\"Enter three numbers separated by spaces (e.g., '10 20 30'): \")\n",
    "nums_list = nums_input.split()\n",
    "if len(nums_list) != 3:\n",
    "    print(\"Please enter exactly three numbers.\")\n",
    "else:\n",
    "    num1, num2, num3 = map(int, nums_list)\n",
    "    average = (num1 + num2 + num3) / 3\n",
    "    print(f\"The average of {num1}, {num2}, and {num3} is {average:.2f}\")\n",
    "print(\"-\" * 50)"
   ],
   "id": "5df101de658a1a4",
   "outputs": [
    {
     "name": "stdout",
     "output_type": "stream",
     "text": [
      "6. Handling Multiple Inputs on One Line\n",
      "The average of 11, 22, and 33 is 22.00\n",
      "--------------------------------------------------\n"
     ]
    }
   ],
   "execution_count": 9
  },
  {
   "metadata": {
    "ExecuteTime": {
     "end_time": "2025-04-19T09:32:07.669640Z",
     "start_time": "2025-04-19T09:32:03.624779Z"
    }
   },
   "cell_type": "code",
   "source": [
    "print(\"7. Basic Error Handling for Input\")\n",
    "user_input = input(\"Please enter an integer: \")\n",
    "try:\n",
    "    number = int(user_input)\n",
    "    print(f\"You entered the integer: {number}\")\n",
    "except ValueError:\n",
    "    print(f\"That wasn't a valid integer -> {user_input}. Please enter a number like 5 or 42.\")\n"
   ],
   "id": "d2ac6a0a5a7b68bd",
   "outputs": [
    {
     "name": "stdout",
     "output_type": "stream",
     "text": [
      "7. Basic Error Handling for Input\n",
      "That wasn't a valid integer -> v. Please enter a number like 5 or 42.\n"
     ]
    }
   ],
   "execution_count": 11
  },
  {
   "metadata": {
    "ExecuteTime": {
     "end_time": "2025-04-19T09:34:19.983817Z",
     "start_time": "2025-04-19T09:33:54.616399Z"
    }
   },
   "cell_type": "code",
   "source": [
    "print(\"8. BMI Calculator with Error Handling\")\n",
    "def bmi_calc():\n",
    "    try:\n",
    "        height = float(input(\"Enter your height in meters (e.g., 1.75): \"))\n",
    "        weight = float(input(\"Enter your weight in kilograms (e.g., 68): \"))\n",
    "\n",
    "        if height <= 0.0 or weight <= 0.0:\n",
    "            raise ZeroDivisionError(\"Height or weight cannot be zero. Division by zero is not allowed.\")\n",
    "\n",
    "        bmi = weight / (height ** 2)\n",
    "        print(f\"Your BMI is: {bmi:.2f}\")\n",
    "\n",
    "    except ValueError:\n",
    "        print(\"Invalid input! Please enter numeric values for height and weight.\")\n",
    "\n",
    "    except ZeroDivisionError as zde:\n",
    "        print(f\"Error: {zde}\")\n",
    "\n",
    "bmi_calc()"
   ],
   "id": "a11d2bdfdaee2b53",
   "outputs": [
    {
     "name": "stdout",
     "output_type": "stream",
     "text": [
      "8. BMI Calculator with Error Handling\n",
      "Your BMI is: 32.33\n"
     ]
    }
   ],
   "execution_count": 13
  },
  {
   "metadata": {
    "ExecuteTime": {
     "end_time": "2025-04-19T09:35:11.819801Z",
     "start_time": "2025-04-19T09:35:11.815969Z"
    }
   },
   "cell_type": "code",
   "source": [
    "print(\"9. List Indexing and Slicing\")\n",
    "animals = [\"Elephant\", \"Tiger\", \"Kangaroo\", \"Panda\", \"Zebra\"]\n",
    "print(\"Animal at index 0:\", animals[0])\n",
    "print(\"Animal at index 3:\", animals[3])\n",
    "print(\"Last two animals:\", animals[-2:])\n",
    "print(\"-\" * 50)"
   ],
   "id": "ef48907840400981",
   "outputs": [
    {
     "name": "stdout",
     "output_type": "stream",
     "text": [
      "9. List Indexing and Slicing\n",
      "Animal at index 0: Elephant\n",
      "Animal at index 3: Panda\n",
      "Last two animals: ['Panda', 'Zebra']\n",
      "--------------------------------------------------\n"
     ]
    }
   ],
   "execution_count": 14
  },
  {
   "metadata": {
    "ExecuteTime": {
     "end_time": "2025-04-19T09:35:19.724166Z",
     "start_time": "2025-04-19T09:35:19.721215Z"
    }
   },
   "cell_type": "code",
   "source": [
    "print(\"10. Tuple Creation and Access\")\n",
    "countries = (\"India\", \"Brazil\", \"Canada\")\n",
    "print(\"Country at index 0:\", countries[0])\n",
    "print(\"Country at index 2:\", countries[2])\n",
    "print(\"-\" * 50)"
   ],
   "id": "c00694495215716d",
   "outputs": [
    {
     "name": "stdout",
     "output_type": "stream",
     "text": [
      "10. Tuple Creation and Access\n",
      "Country at index 0: India\n",
      "Country at index 2: Canada\n",
      "--------------------------------------------------\n"
     ]
    }
   ],
   "execution_count": 15
  },
  {
   "metadata": {
    "ExecuteTime": {
     "end_time": "2025-04-19T09:35:27.723357Z",
     "start_time": "2025-04-19T09:35:27.720814Z"
    }
   },
   "cell_type": "code",
   "source": [
    "print(\"11. String Indexing and Slicing\")\n",
    "city = \"Metropolis\"\n",
    "print(\"First character:\", city[0])\n",
    "print(\"Character at index 5:\", city[5])\n",
    "print(\"Characters from index 2 to 5:\", city[2:6])\n",
    "print(\"-\" * 50)"
   ],
   "id": "3c24b4e789fe3345",
   "outputs": [
    {
     "name": "stdout",
     "output_type": "stream",
     "text": [
      "11. String Indexing and Slicing\n",
      "First character: M\n",
      "Character at index 5: p\n",
      "Characters from index 2 to 5: trop\n",
      "--------------------------------------------------\n"
     ]
    }
   ],
   "execution_count": 16
  },
  {
   "metadata": {
    "ExecuteTime": {
     "end_time": "2025-04-19T09:35:34.195672Z",
     "start_time": "2025-04-19T09:35:34.192448Z"
    }
   },
   "cell_type": "code",
   "source": [
    "print(\"12. Tuple and List Conversion\")\n",
    "original_tuple = (10, 20, 30)\n",
    "converted_list = list(original_tuple)\n",
    "converted_list.append(40)\n",
    "final_tuple = tuple(converted_list)\n",
    "print(\"Final tuple:\", final_tuple)"
   ],
   "id": "bc9947f6fda0aa8",
   "outputs": [
    {
     "name": "stdout",
     "output_type": "stream",
     "text": [
      "12. Tuple and List Conversion\n",
      "Final tuple: (10, 20, 30, 40)\n"
     ]
    }
   ],
   "execution_count": 17
  },
  {
   "metadata": {
    "ExecuteTime": {
     "end_time": "2025-04-19T09:36:36.042161Z",
     "start_time": "2025-04-19T09:36:36.039399Z"
    }
   },
   "cell_type": "code",
   "source": [
    "def is_palindrome(s):\n",
    "    return s == s[::-1]"
   ],
   "id": "8a00f46e16cb1698",
   "outputs": [],
   "execution_count": 18
  },
  {
   "metadata": {
    "ExecuteTime": {
     "end_time": "2025-04-19T09:37:17.051682Z",
     "start_time": "2025-04-19T09:37:11.725250Z"
    }
   },
   "cell_type": "code",
   "source": [
    "print(\"13. Palindrome Check\")\n",
    "test_string = input(\"Enter a string to check if it's a palindrome: \")\n",
    "if is_palindrome(test_string):\n",
    "    print(f\"It's a palindrome -> {test_string}\")\n",
    "else:\n",
    "    print(\"Not a palindrome.\")\n",
    "print(\"-\" * 50)"
   ],
   "id": "30f898c1391a2b1b",
   "outputs": [
    {
     "name": "stdout",
     "output_type": "stream",
     "text": [
      "13. Palindrome Check\n",
      "It's a palindrome -> 1221\n",
      "--------------------------------------------------\n"
     ]
    }
   ],
   "execution_count": 20
  },
  {
   "metadata": {
    "ExecuteTime": {
     "end_time": "2025-04-19T09:37:45.456887Z",
     "start_time": "2025-04-19T09:37:45.452714Z"
    }
   },
   "cell_type": "code",
   "source": [
    "print(\"14. Removing Duplicates\")\n",
    "original_list = [1, 2, 2, 3, 4, 3, 5]\n",
    "unique_list = []\n",
    "for item in original_list:\n",
    "    if item not in unique_list:\n",
    "        unique_list.append(item)\n",
    "print(\"Original list:\", original_list)\n",
    "print(\"Without duplicates:\", unique_list)\n",
    "print(\"-\" * 50)"
   ],
   "id": "8ebd50e30adb76db",
   "outputs": [
    {
     "name": "stdout",
     "output_type": "stream",
     "text": [
      "14. Removing Duplicates\n",
      "Original list: [1, 2, 2, 3, 4, 3, 5]\n",
      "Without duplicates: [1, 2, 3, 4, 5]\n",
      "--------------------------------------------------\n"
     ]
    }
   ],
   "execution_count": 21
  },
  {
   "metadata": {
    "ExecuteTime": {
     "end_time": "2025-04-19T09:39:56.465374Z",
     "start_time": "2025-04-19T09:39:56.461431Z"
    }
   },
   "cell_type": "code",
   "source": [
    "from typing import List, Set\n",
    "def list_intersection(list1:List, list2:List):\n",
    "    set1:Set = set(list1)\n",
    "    set2:Set = set(list2)\n",
    "    return list(set1.intersection(set2))\n",
    "\n",
    "print(\"15. List Intersection\")\n",
    "list_a = [1, 2, 3, 4]\n",
    "list_b = [3, 4, 5, 6]\n",
    "common_elements = list_intersection(list_a, list_b)\n",
    "print(\"List A:\", list_a)\n",
    "print(\"List B:\", list_b)\n",
    "print(\"Intersection:\", common_elements)\n",
    "print(\"-\" * 50)"
   ],
   "id": "d55c89b4bf44112f",
   "outputs": [
    {
     "name": "stdout",
     "output_type": "stream",
     "text": [
      "15. List Intersection\n",
      "List A: [1, 2, 3, 4]\n",
      "List B: [3, 4, 5, 6]\n",
      "Intersection: [3, 4]\n",
      "--------------------------------------------------\n"
     ]
    }
   ],
   "execution_count": 22
  },
  {
   "metadata": {
    "ExecuteTime": {
     "end_time": "2025-04-19T09:40:23.382069Z",
     "start_time": "2025-04-19T09:40:23.378290Z"
    }
   },
   "cell_type": "code",
   "source": [
    "print(\"16. Element Frequency\")\n",
    "elements = ['apple', 'banana', 'apple', 'orange', 'banana', 'apple']\n",
    "frequency_dict = {}\n",
    "for item in elements:\n",
    "    frequency_dict[item] = frequency_dict.get(item, 0) + 1\n",
    "print(\"Frequency Dictionary:\", frequency_dict)\n",
    "print(\"-\" * 50)"
   ],
   "id": "8ec8708b5e389ba2",
   "outputs": [
    {
     "name": "stdout",
     "output_type": "stream",
     "text": [
      "16. Element Frequency\n",
      "Frequency Dictionary: {'apple': 3, 'banana': 2, 'orange': 1}\n",
      "--------------------------------------------------\n"
     ]
    }
   ],
   "execution_count": 23
  },
  {
   "metadata": {
    "ExecuteTime": {
     "end_time": "2025-04-19T09:40:39.627962Z",
     "start_time": "2025-04-19T09:40:39.625246Z"
    }
   },
   "cell_type": "code",
   "source": [
    "print(\"17. Dictionary Operations\")\n",
    "book = {\n",
    "    'title': '1984',\n",
    "    'author': 'George Orwell',\n",
    "    'year_published': 1949\n",
    "}\n",
    "book['genre'] = 'Dystopian Fiction'\n",
    "book['year_published'] = 1950\n",
    "print(\"Updated Book Dictionary:\", book)"
   ],
   "id": "e3d4ab803d7fa2d6",
   "outputs": [
    {
     "name": "stdout",
     "output_type": "stream",
     "text": [
      "17. Dictionary Operations\n",
      "Updated Book Dictionary: {'title': '1984', 'author': 'George Orwell', 'year_published': 1950, 'genre': 'Dystopian Fiction'}\n"
     ]
    }
   ],
   "execution_count": 24
  },
  {
   "metadata": {
    "ExecuteTime": {
     "end_time": "2025-04-19T09:42:26.437806Z",
     "start_time": "2025-04-19T09:42:26.434014Z"
    }
   },
   "cell_type": "code",
   "source": [
    "print(\"18. Total Price of Products\")\n",
    "\n",
    "products = [\n",
    "    {\"name\": \"Laptop\", \"price\": 799.99},\n",
    "    {\"name\": \"Mouse\", \"price\": 25.50},\n",
    "    {\"name\": \"Keyboard\", \"price\": 45.00},\n",
    "    {\"name\": \"Monitor\", \"price\": 150.75}\n",
    "]\n",
    "\n",
    "total_price = sum(product['price'] for product in products)\n",
    "\n",
    "print(\"Product List:\")\n",
    "for product in products:\n",
    "    print(f\"- {product['name']}: ${product['price']:.2f}\")\n",
    "\n",
    "print(f\"Total Price: ${total_price:.2f}\")"
   ],
   "id": "6a23e47135817a54",
   "outputs": [
    {
     "name": "stdout",
     "output_type": "stream",
     "text": [
      "18. Total Price of Products\n",
      "Product List:\n",
      "- Laptop: $799.99\n",
      "- Mouse: $25.50\n",
      "- Keyboard: $45.00\n",
      "- Monitor: $150.75\n",
      "Total Price: $1021.24\n"
     ]
    }
   ],
   "execution_count": 25
  },
  {
   "metadata": {},
   "cell_type": "code",
   "outputs": [],
   "execution_count": null,
   "source": "",
   "id": "a87cbe222734e278"
  }
 ],
 "metadata": {
  "kernelspec": {
   "display_name": "Python 3",
   "language": "python",
   "name": "python3"
  },
  "language_info": {
   "codemirror_mode": {
    "name": "ipython",
    "version": 2
   },
   "file_extension": ".py",
   "mimetype": "text/x-python",
   "name": "python",
   "nbconvert_exporter": "python",
   "pygments_lexer": "ipython2",
   "version": "2.7.6"
  }
 },
 "nbformat": 4,
 "nbformat_minor": 5
}
